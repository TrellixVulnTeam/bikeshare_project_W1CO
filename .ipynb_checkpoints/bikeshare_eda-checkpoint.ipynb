{
 "cells": [
  {
   "cell_type": "code",
   "execution_count": 1,
   "id": "06db6ef1",
   "metadata": {},
   "outputs": [],
   "source": [
    "#import libaries\n",
    "import pandas as pd\n",
    "import numpy as np\n",
    "import matplotlib.pyplot as plt\n",
    "import seaborn as sns\n",
    "import missingno as msno"
   ]
  },
  {
   "cell_type": "code",
   "execution_count": 2,
   "id": "bf626ec4",
   "metadata": {},
   "outputs": [
    {
     "data": {
      "text/html": [
       "<div>\n",
       "<style scoped>\n",
       "    .dataframe tbody tr th:only-of-type {\n",
       "        vertical-align: middle;\n",
       "    }\n",
       "\n",
       "    .dataframe tbody tr th {\n",
       "        vertical-align: top;\n",
       "    }\n",
       "\n",
       "    .dataframe thead th {\n",
       "        text-align: right;\n",
       "    }\n",
       "</style>\n",
       "<table border=\"1\" class=\"dataframe\">\n",
       "  <thead>\n",
       "    <tr style=\"text-align: right;\">\n",
       "      <th></th>\n",
       "      <th>trip_id</th>\n",
       "      <th>starttime</th>\n",
       "      <th>stoptime</th>\n",
       "      <th>bikeid</th>\n",
       "      <th>tripduration</th>\n",
       "      <th>from_station_id</th>\n",
       "      <th>from_station_name</th>\n",
       "      <th>to_station_id</th>\n",
       "      <th>to_station_name</th>\n",
       "      <th>usertype</th>\n",
       "      <th>gender</th>\n",
       "      <th>birthyear</th>\n",
       "    </tr>\n",
       "  </thead>\n",
       "  <tbody>\n",
       "    <tr>\n",
       "      <th>72126</th>\n",
       "      <td>12150369</td>\n",
       "      <td>10/01/2016 01:40</td>\n",
       "      <td>10/01/2016 01:43</td>\n",
       "      <td>1651</td>\n",
       "      <td>233</td>\n",
       "      <td>117</td>\n",
       "      <td>Wilton Ave &amp; Belmont Ave</td>\n",
       "      <td>114</td>\n",
       "      <td>Sheffield Ave &amp; Waveland Ave</td>\n",
       "      <td>Subscriber</td>\n",
       "      <td>Male</td>\n",
       "      <td>1971.0</td>\n",
       "    </tr>\n",
       "    <tr>\n",
       "      <th>72127</th>\n",
       "      <td>12150340</td>\n",
       "      <td>10/01/2016 01:21</td>\n",
       "      <td>10/01/2016 01:29</td>\n",
       "      <td>4803</td>\n",
       "      <td>472</td>\n",
       "      <td>123</td>\n",
       "      <td>California Ave &amp; Milwaukee Ave</td>\n",
       "      <td>503</td>\n",
       "      <td>Drake Ave &amp; Fullerton Ave</td>\n",
       "      <td>Subscriber</td>\n",
       "      <td>Female</td>\n",
       "      <td>1991.0</td>\n",
       "    </tr>\n",
       "    <tr>\n",
       "      <th>72128</th>\n",
       "      <td>12150249</td>\n",
       "      <td>10/01/2016 00:35</td>\n",
       "      <td>10/01/2016 00:53</td>\n",
       "      <td>3906</td>\n",
       "      <td>1069</td>\n",
       "      <td>90</td>\n",
       "      <td>Millennium Park</td>\n",
       "      <td>197</td>\n",
       "      <td>Michigan Ave &amp; Madison St</td>\n",
       "      <td>Customer</td>\n",
       "      <td>NaN</td>\n",
       "      <td>NaN</td>\n",
       "    </tr>\n",
       "    <tr>\n",
       "      <th>72129</th>\n",
       "      <td>12150216</td>\n",
       "      <td>10/01/2016 00:19</td>\n",
       "      <td>10/01/2016 00:44</td>\n",
       "      <td>5882</td>\n",
       "      <td>1492</td>\n",
       "      <td>300</td>\n",
       "      <td>Broadway &amp; Barry Ave</td>\n",
       "      <td>300</td>\n",
       "      <td>Broadway &amp; Barry Ave</td>\n",
       "      <td>Subscriber</td>\n",
       "      <td>Male</td>\n",
       "      <td>1993.0</td>\n",
       "    </tr>\n",
       "    <tr>\n",
       "      <th>72130</th>\n",
       "      <td>12150187</td>\n",
       "      <td>10/01/2016 00:09</td>\n",
       "      <td>10/01/2016 00:19</td>\n",
       "      <td>490</td>\n",
       "      <td>624</td>\n",
       "      <td>144</td>\n",
       "      <td>Larrabee St &amp; Webster Ave</td>\n",
       "      <td>152</td>\n",
       "      <td>Lincoln Ave &amp; Diversey Pkwy</td>\n",
       "      <td>Subscriber</td>\n",
       "      <td>Male</td>\n",
       "      <td>1992.0</td>\n",
       "    </tr>\n",
       "  </tbody>\n",
       "</table>\n",
       "</div>"
      ],
      "text/plain": [
       "        trip_id         starttime          stoptime  bikeid  tripduration  \\\n",
       "72126  12150369  10/01/2016 01:40  10/01/2016 01:43    1651           233   \n",
       "72127  12150340  10/01/2016 01:21  10/01/2016 01:29    4803           472   \n",
       "72128  12150249  10/01/2016 00:35  10/01/2016 00:53    3906          1069   \n",
       "72129  12150216  10/01/2016 00:19  10/01/2016 00:44    5882          1492   \n",
       "72130  12150187  10/01/2016 00:09  10/01/2016 00:19     490           624   \n",
       "\n",
       "       from_station_id               from_station_name  to_station_id  \\\n",
       "72126              117        Wilton Ave & Belmont Ave            114   \n",
       "72127              123  California Ave & Milwaukee Ave            503   \n",
       "72128               90                 Millennium Park            197   \n",
       "72129              300            Broadway & Barry Ave            300   \n",
       "72130              144       Larrabee St & Webster Ave            152   \n",
       "\n",
       "                    to_station_name    usertype  gender  birthyear  \n",
       "72126  Sheffield Ave & Waveland Ave  Subscriber    Male     1971.0  \n",
       "72127     Drake Ave & Fullerton Ave  Subscriber  Female     1991.0  \n",
       "72128     Michigan Ave & Madison St    Customer     NaN        NaN  \n",
       "72129          Broadway & Barry Ave  Subscriber    Male     1993.0  \n",
       "72130   Lincoln Ave & Diversey Pkwy  Subscriber    Male     1992.0  "
      ]
     },
     "execution_count": 2,
     "metadata": {},
     "output_type": "execute_result"
    }
   ],
   "source": [
    "#read in file\n",
    "df = pd.read_csv('Chicago-Divvy-2016.csv')\n",
    "print(df.head())\n"
   ]
  },
  {
   "cell_type": "code",
   "execution_count": 3,
   "id": "1099ffc4",
   "metadata": {},
   "outputs": [
    {
     "name": "stdout",
     "output_type": "stream",
     "text": [
      "(72131, 12)\n",
      "            trip_id        bikeid  tripduration  from_station_id  \\\n",
      "count  7.213100e+04  72131.000000  72131.000000     72131.000000   \n",
      "mean   1.080197e+07   2966.389472    993.817762       178.197391   \n",
      "std    1.261951e+06   1674.490919   1970.898086       127.282634   \n",
      "min    8.547222e+06      1.000000     60.000000         2.000000   \n",
      "25%    9.730023e+06   1523.000000    408.000000        74.000000   \n",
      "50%    1.082273e+07   3026.000000    701.000000       157.000000   \n",
      "75%    1.189510e+07   4381.000000   1174.000000       268.000000   \n",
      "max    1.297909e+07   5919.000000  86365.000000       620.000000   \n",
      "\n",
      "       to_station_id     birthyear  \n",
      "count   72131.000000  54986.000000  \n",
      "mean      177.351264   1980.423799  \n",
      "std       127.515457     10.823393  \n",
      "min         2.000000   1899.000000  \n",
      "25%        73.000000   1975.000000  \n",
      "50%       156.000000   1984.000000  \n",
      "75%       268.000000   1989.000000  \n",
      "max       620.000000   2000.000000  \n"
     ]
    }
   ],
   "source": [
    "#check shape and general desription of data\n",
    "print(df.shape)\n",
    "print(df.describe())"
   ]
  },
  {
   "cell_type": "code",
   "execution_count": 5,
   "id": "78272f2f",
   "metadata": {},
   "outputs": [],
   "source": [
    "# user as old as 117?\n",
    "df[df['birthyear'] < 1920].count()\n",
    "\n",
    "df['age'] = 2016-df['birthyear']\n"
   ]
  },
  {
   "cell_type": "code",
   "execution_count": 6,
   "id": "a67d9cec",
   "metadata": {},
   "outputs": [],
   "source": [
    "#convert tripduration from seconds to minutes\n",
    "df['tripduration'] = df['tripduration'] / 60"
   ]
  },
  {
   "cell_type": "code",
   "execution_count": 7,
   "id": "21a9130b",
   "metadata": {},
   "outputs": [
    {
     "name": "stdout",
     "output_type": "stream",
     "text": [
      "trip_id              0\n",
      "starttime            0\n",
      "stoptime             0\n",
      "bikeid               0\n",
      "tripduration         0\n",
      "from_station_id      0\n",
      "from_station_name    0\n",
      "to_station_id        0\n",
      "to_station_name      0\n",
      "usertype             0\n",
      "gender               9\n",
      "birthyear            0\n",
      "age                  0\n",
      "dtype: int64\n",
      "trip_id                  0\n",
      "starttime                0\n",
      "stoptime                 0\n",
      "bikeid                   0\n",
      "tripduration             0\n",
      "from_station_id          0\n",
      "from_station_name        0\n",
      "to_station_id            0\n",
      "to_station_name          0\n",
      "usertype                 0\n",
      "gender               17145\n",
      "birthyear            17145\n",
      "age                  17145\n",
      "dtype: int64\n",
      "(17149, 13)\n"
     ]
    }
   ],
   "source": [
    "#check for na values\n",
    "df.isna().sum()\n",
    "\n",
    "print(df[df['usertype']=='Subscriber'].isna().sum())\n",
    "print(df[df['usertype']=='Customer'].isna().sum())\n",
    "\n",
    "print(df[df['usertype']!='Subscriber'].shape)\n",
    "\n",
    "\n",
    "\n",
    "#Missing birthyear and gender data is almost completely all due to Customer usertypes.\n",
    "\n"
   ]
  },
  {
   "cell_type": "code",
   "execution_count": null,
   "id": "fb9d8d50",
   "metadata": {},
   "outputs": [],
   "source": []
  },
  {
   "cell_type": "code",
   "execution_count": 8,
   "id": "e1399127",
   "metadata": {},
   "outputs": [
    {
     "data": {
      "text/plain": [
       "<AxesSubplot:>"
      ]
     },
     "execution_count": 8,
     "metadata": {},
     "output_type": "execute_result"
    },
    {
     "data": {
      "image/png": "[encoded data removed]",
      "text/plain": [
       "<Figure size 432x288 with 2 Axes>"
      ]
     },
     "metadata": {
      "needs_background": "light"
     },
     "output_type": "display_data"
    }
   ],
   "source": [
    "#Check for any correlation\n",
    "sns.heatmap(df.corr(), annot=True)\n",
    "plt.show()"
   ]
  },
  {
   "cell_type": "code",
   "execution_count": 9,
   "id": "927fea81",
   "metadata": {},
   "outputs": [
    {
     "name": "stdout",
     "output_type": "stream",
     "text": [
      "count    72131.000000\n",
      "mean        16.563629\n",
      "std         32.848301\n",
      "min          1.000000\n",
      "25%          6.800000\n",
      "50%         11.683333\n",
      "75%         19.566667\n",
      "max       1439.416667\n",
      "Name: tripduration, dtype: float64\n"
     ]
    },
    {
     "data": {
      "image/png": "[encoded data removed]",
      "text/plain": [
       "<Figure size 432x288 with 1 Axes>"
      ]
     },
     "metadata": {
      "needs_background": "light"
     },
     "output_type": "display_data"
    },
    {
     "name": "stdout",
     "output_type": "stream",
     "text": [
      "Median trip duration(mins):\n",
      " 11.683333333333334\n"
     ]
    }
   ],
   "source": [
    "print(df['tripduration'].describe())\n",
    "\n",
    "sns.boxplot(x=df['tripduration'])\n",
    "plt.show()\n",
    "\n",
    "print('Median trip duration(mins):\\n',df['tripduration'].median())\n",
    "\n",
    "#We have a few outliers so using the median will reduce the affect these have deciding a more accurate average."
   ]
  },
  {
   "cell_type": "code",
   "execution_count": 10,
   "id": "566cc706",
   "metadata": {},
   "outputs": [
    {
     "data": {
      "text/plain": [
       "trip_id              78\n",
       "starttime            78\n",
       "stoptime             78\n",
       "bikeid               78\n",
       "tripduration         78\n",
       "from_station_id      78\n",
       "from_station_name    78\n",
       "to_station_id        78\n",
       "to_station_name      78\n",
       "usertype             78\n",
       "gender               34\n",
       "birthyear            34\n",
       "age                  34\n",
       "dtype: int64"
      ]
     },
     "execution_count": 10,
     "metadata": {},
     "output_type": "execute_result"
    }
   ],
   "source": [
    "print(df[df['tripduration'] > 300].count())\n",
    "\n",
    "#78 users had trip durations of 5 hours upto 24 hours\n"
   ]
  },
  {
   "cell_type": "code",
   "execution_count": 11,
   "id": "261d739b",
   "metadata": {},
   "outputs": [
    {
     "data": {
      "image/png": "[encoded data removed]",
      "text/plain": [
       "<Figure size 432x288 with 1 Axes>"
      ]
     },
     "metadata": {
      "needs_background": "light"
     },
     "output_type": "display_data"
    },
    {
     "data": {
      "image/png": "[encoded data removed]",
      "text/plain": [
       "<Figure size 432x288 with 1 Axes>"
      ]
     },
     "metadata": {
      "needs_background": "light"
     },
     "output_type": "display_data"
    }
   ],
   "source": [
    "# visualize the data\n",
    "\n",
    "sns.boxplot(x=df['age'])\n",
    "plt.show()\n",
    "plt.hist(df['age'], density=True, bins=30)\n",
    "plt.show()\n",
    "\n",
    "## positively skewed data.This makes sense as users will hit a point were they are old enough \n",
    "## to use the bikes majority will sit around 20-40 years old then slowly taper off"
   ]
  },
  {
   "cell_type": "code",
   "execution_count": 19,
   "id": "f4546df9",
   "metadata": {},
   "outputs": [
    {
     "name": "stdout",
     "output_type": "stream",
     "text": [
      "Customers(%): 24\n",
      "Subsribers(%): 76\n"
     ]
    },
    {
     "data": {
      "image/png": "[encoded data removed]",
      "text/plain": [
       "<Figure size 432x288 with 1 Axes>"
      ]
     },
     "metadata": {
      "needs_background": "light"
     },
     "output_type": "display_data"
    }
   ],
   "source": [
    "## Proportion of users that are either subsribers or customers\n",
    "\n",
    "all_users = (df['usertype'].count())\n",
    "customers = (df[df['usertype']=='Customer']).shape[0]\n",
    "subscribers = (df[df['usertype']=='Subscriber']).shape[0]\n",
    "\n",
    "customer_perc = ((customers/all_users) * 100)\n",
    "subs_perc = ((subscribers/all_users) *100)\n",
    "\n",
    "print(f\"Customers(%): {round(customer_perc)}\\nSubsribers(%): {round(subs_perc)}\")\n",
    "\n",
    "df.groupby('usertype')['trip_id'].count().plot.bar()\n",
    "plt.show()"
   ]
  },
  {
   "cell_type": "code",
   "execution_count": 13,
   "id": "8c951bd2",
   "metadata": {},
   "outputs": [
    {
     "name": "stderr",
     "output_type": "stream",
     "text": [
      "C:\\Users\\tberv\\AppData\\Local\\Temp\\ipykernel_20372\\67463688.py:10: FutureWarning: The frame.append method is deprecated and will be removed from pandas in a future version. Use pandas.concat instead.\n",
      "  overall_traffic = from_station.append(to_station)\n"
     ]
    },
    {
     "data": {
      "image/png": "[encoded data removed]",
      "text/plain": [
       "<Figure size 432x288 with 1 Axes>"
      ]
     },
     "metadata": {
      "needs_background": "light"
     },
     "output_type": "display_data"
    }
   ],
   "source": [
    "## Most popular stations\n",
    "\n",
    "# creating 1 column to count every station visit, either dropping off or picking up\n",
    "from_station = df[['from_station_name','usertype']]\n",
    "from_station.columns = ['station','usertype']\n",
    "\n",
    "to_station = df[['to_station_name','usertype']]\n",
    "to_station.columns = ['station','usertype']\n",
    "\n",
    "overall_traffic = from_station.append(to_station)\n",
    "overall_traffic = overall_traffic.groupby('station')['usertype'].count().sort_values(ascending=False).head()\n",
    "overall_traffic.plot.bar()\n",
    "plt.show()"
   ]
  },
  {
   "cell_type": "code",
   "execution_count": 18,
   "id": "e510163c",
   "metadata": {
    "scrolled": false
   },
   "outputs": [
    {
     "data": {
      "text/plain": [
       "3.39"
      ]
     },
     "execution_count": 18,
     "metadata": {},
     "output_type": "execute_result"
    }
   ],
   "source": [
    "same_station = df.query('from_station_name == to_station_name').shape[0]\n",
    "\n",
    "print(round(same_station/df.shape[0] * 100,2))\n",
    "\n",
    "# approx 3% use the bikes likely for liusure "
   ]
  },
  {
   "cell_type": "code",
   "execution_count": 15,
   "id": "74a83917",
   "metadata": {},
   "outputs": [
    {
     "name": "stdout",
     "output_type": "stream",
     "text": [
      "Same stop riders avg duration:  38.56986497545008\n",
      "Different stop riders avg duration:  15.791846398897931\n"
     ]
    }
   ],
   "source": [
    "same_stop = df.query('from_station_name == to_station_name')\n",
    "print('Same stop riders avg duration: ', same_stop.tripduration.mean())\n",
    "diff_stop = df.query('from_station_name != to_station_name')\n",
    "print('Different stop riders avg duration: ', diff_stop.tripduration.mean())"
   ]
  },
  {
   "cell_type": "code",
   "execution_count": 16,
   "id": "464c9044",
   "metadata": {},
   "outputs": [],
   "source": [
    "## find the most popular times \n",
    "\n",
    "#convert columns into datetimes so we can manipulate easier\n",
    "df['starttime'] = pd.to_datetime(df['starttime'])\n",
    "df['stoptime'] = pd.to_datetime(df['stoptime'])\n",
    "\n",
    "df['month'] = df.starttime.dt.month\n",
    "df['day'] =df.starttime.dt.day_name()\n",
    "df['time'] = df.starttime.dt.hour"
   ]
  },
  {
   "cell_type": "code",
   "execution_count": 17,
   "id": "d212f34a",
   "metadata": {},
   "outputs": [
    {
     "data": {
      "image/png": "[encoded data removed]",
      "text/plain": [
       "<Figure size 432x288 with 1 Axes>"
      ]
     },
     "metadata": {
      "needs_background": "light"
     },
     "output_type": "display_data"
    }
   ],
   "source": [
    "## Popular hours\n",
    "\n",
    "popular_times = df.groupby('time')['trip_id'].count()\n",
    "sns.barplot(x=popular_times.index , y= popular_times.values, color='gray')\n",
    "plt.show()\n",
    "\n",
    "# peaks around 8 and 5, people commuting to work."
   ]
  },
  {
   "cell_type": "code",
   "execution_count": 32,
   "id": "c255d5cf",
   "metadata": {},
   "outputs": [
    {
     "data": {
      "image/png": "[encoded data removed]",
      "text/plain": [
       "<Figure size 432x288 with 1 Axes>"
      ]
     },
     "metadata": {
      "needs_background": "light"
     },
     "output_type": "display_data"
    }
   ],
   "source": [
    "# Popular days\n",
    "\n",
    "popular_days = df.groupby('day')['trip_id'].count().sort_values(ascending=False)\n",
    "\n",
    "plt.xticks(rotation=90)\n",
    "sns.barplot(x=popular_days.index , y= popular_days.values, color='gray')\n",
    "plt.show()"
   ]
  },
  {
   "cell_type": "code",
   "execution_count": 36,
   "id": "f82fe1cc",
   "metadata": {},
   "outputs": [
    {
     "data": {
      "image/png": "[encoded data removed]",
      "text/plain": [
       "<Figure size 432x288 with 1 Axes>"
      ]
     },
     "metadata": {
      "needs_background": "light"
     },
     "output_type": "display_data"
    }
   ],
   "source": [
    "## Popular Months\n",
    "\n",
    "popular_months = df.groupby('month')['trip_id'].count()\n",
    "plt.xticks(rotation=90)\n",
    "sns.barplot(x=popular_months.index , y= popular_months.values, color='gray')\n",
    "plt.show()\n",
    "\n",
    "# peaks around July, during summer in Chicago.\n"
   ]
  },
  {
   "cell_type": "code",
   "execution_count": null,
   "id": "d0e9baca",
   "metadata": {},
   "outputs": [],
   "source": []
  }
 ],
 "metadata": {
  "kernelspec": {
   "display_name": "Python 3 (ipykernel)",
   "language": "python",
   "name": "python3"
  },
  "language_info": {
   "codemirror_mode": {
    "name": "ipython",
    "version": 3
   },
   "file_extension": ".py",
   "mimetype": "text/x-python",
   "name": "python",
   "nbconvert_exporter": "python",
   "pygments_lexer": "ipython3",
   "version": "3.9.13"
  }
 },
 "nbformat": 4,
 "nbformat_minor": 5
}
